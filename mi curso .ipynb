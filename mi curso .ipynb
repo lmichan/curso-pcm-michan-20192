{
 "cells": [
  {
   "cell_type": "markdown",
   "metadata": {},
   "source": [
    "# LAYLA\n",
    "\n",
    "## Mis cursos de Python\n",
    "\n",
    "\n",
    "\n",
    "\n",
    "\n"
   ]
  },
  {
   "cell_type": "markdown",
   "metadata": {},
   "source": [
    "[![imagenes](https://imgs.xkcd.com/comics/python_environment.png)](https://pythonista.mx)"
   ]
  },
  {
   "cell_type": "markdown",
   "metadata": {},
   "source": [
    "[![imagenes](imagenes/pythonista.png)](https://pythonista.mx)"
   ]
  },
  {
   "cell_type": "markdown",
   "metadata": {},
   "source": [
    "\n",
    "### Chiquete\n",
    "\n",
    "Los archivos https://github.com/PythonistaMX/py101\n",
    "\n",
    "[Video](https://www.youtube.com/watch?v=eNsMcSa3qmg&list=PLeKKNy7-Y2sVFCpLXojt0BDFjpVGv0nA5) \n",
    "\n",
    "* Mediante un compilador, el cual traduce el código de un programa a lenguaje de bajo nivel, dando por resultado un \"archivo binario\" el cual es susceptible de ser ejecutado.\n",
    "* Mediante un intérprete, el cual ejecuta de inmediato las instrucciones que se ingresan.\n",
    "\n"
   ]
  },
  {
   "cell_type": "markdown",
   "metadata": {},
   "source": [
    "### Alicante\n",
    "\n",
    "https://github.com/CAChemE/curso_python_alicante\n",
    "[Curso](https://github.com/AeroPython/Curso_AeroPython)\n",
    "https://nbviewer.jupyter.org/github/Pybonacci/curso_python_alicante/blob/master/01_intro-python-ipython.ipynb\n",
    "\n",
    "\n"
   ]
  },
  {
   "cell_type": "markdown",
   "metadata": {},
   "source": [
    "### Impacientes\n",
    "\n",
    "[Video](https://python-para-impacientes.blogspot.com/p/indice.html) \n",
    "\n"
   ]
  },
  {
   "cell_type": "markdown",
   "metadata": {},
   "source": [
    "## Ligas interesantes\n",
    "\n",
    "BASICOS\n",
    "https://docs.python.org/2/library/functions.html\n",
    "http://docs.anaconda.com/\n",
    "https://realpython.com/\n",
    "https://www.pythonforbeginners.com/\n",
    "\n",
    "\n",
    "CURSOS\n",
    "http://docs.python.org.ar/tutorial/3/index.html\n",
    "https://www.tutorialpython.com/modulos-python/\n",
    "https://docs.python.org/3/contents.html\n",
    "\n",
    "\n",
    "http://ipython.org/citing.html\n",
    "https://www.nature.com/news/interactive-notebooks-sharing-the-code-1.16261"
   ]
  },
  {
   "cell_type": "markdown",
   "metadata": {},
   "source": [
    "### El entorno interactivo.\n",
    "\n",
    "La terminal se conecta a la consola en donde se puede utilizar la Shell\n",
    "\n",
    "El entorno interactivo (shell) de Python se ejecuta desde una terminal de texto. \n",
    "\n",
    "```\n",
    "\n",
    "``` bash\n",
    "Type \"help\", \"copyright\", \"credits\" or \"license\" for more information.\n",
    ">>> \n",
    "```\n",
    "\n",
    "**NOTA:** Para salir del entorno interactivo se debe teclear **exit()** y oprimir la tecla **&lt;Intro**&gt;."
   ]
  },
  {
   "cell_type": "markdown",
   "metadata": {},
   "source": [
    "### *'Hola Mundo'* en el entorno interactivo.\n",
    "Para desplegar el texto Hola Mundo desde en entorno interactivo sólo es necesario teclear lo siguiente:\n",
    "\n",
    "``` python\n",
    ">>> print(\"Hola, Mundo.\")\n",
    "```\n",
    "\n",
    "Y el resultado es el siguiente:\n",
    "\n",
    "``` python\n",
    "Hola, Mundo.\n",
    ">>>\n",
    "```"
   ]
  },
  {
   "cell_type": "markdown",
   "metadata": {},
   "source": [
    "### Ejecución de guiones (scripts).\n",
    "\n",
    "Los scripts de Python son archivos de texto que contienen código que será leído y ejecutado por el intérprete de Python. Dichos archivos tiene la extensión **.py**. Algunos editores de texto cuentan con reconocimiento de la sintaxis de Python y utilizan colores para identificar sus componentes."
   ]
  },
  {
   "cell_type": "markdown",
   "metadata": {},
   "source": [
    "#### El script *[codigo/holamundo.py](codigo/holamundo.py)*.\n",
    "\n",
    "``` python\n",
    "#! /usr/bin/python3\n",
    "print(\"Hola, Mundo.\")\n",
    "```\n",
    "\n",
    "La ejecución del script en entornos basados en UNIX requiere que se indique la ruta en la que se encuentra el intérprete de Python mediante el texto escrito la primera línea de *holamundo.py*. En la gran mayoría de las plataformas basadas en UNIX el intérprete de Python 3 se encuentra en */usr/bin/python3*. Esta línea no afecta la ejecución del script en Windows, por lo que se recomienda incluirla siempre."
   ]
  },
  {
   "cell_type": "markdown",
   "metadata": {},
   "source": [
    "#### Ejecución en Windows.\n",
    "\n",
    "En el caso de Windows, el sistema relacionará a los archivos con la extensión *.py* con el intérprete de Python, por lo que con hacer doble click en el archivo, éste se ejecutará y tan  pronto termine, cerrará la terminal.\n",
    "\n",
    "Cuando se ejecute el script *holamundo.py* en Windows, se abrirá y cerrará una terminal de forma casi inmediata."
   ]
  },
  {
   "cell_type": "markdown",
   "metadata": {},
   "source": [
    "#### El script *[codigo/holamundo2.py](codigo/holamundo2.py)*.\n",
    "\n",
    "El siguiente script que corresponde a *holamundo2.py* incluye una instrucción que no terminará su ejecución hasta que se oprima la tecla *&lt;Intro&gt;*.\n",
    "\n",
    "``` python\n",
    "#! /usr/bin/python3\n",
    "print(\"Hola Mundo\")\n",
    "input()\n",
    "```"
   ]
  },
  {
   "cell_type": "code",
   "execution_count": null,
   "metadata": {},
   "outputs": [],
   "source": [
    "print(\"Hola, Mundo\")"
   ]
  },
  {
   "cell_type": "markdown",
   "metadata": {},
   "source": [
    "#### Ejecución en Jupyter.\n",
    "Jupyter puede ejecutar scripts mediante el \"comando mágico\" *%run*.\n",
    "\n",
    "Más adelante se discutirán los comandos mágicos de IPython."
   ]
  },
  {
   "cell_type": "code",
   "execution_count": null,
   "metadata": {},
   "outputs": [],
   "source": [
    "%run codigo/holamundo.py"
   ]
  },
  {
   "cell_type": "code",
   "execution_count": null,
   "metadata": {},
   "outputs": [],
   "source": [
    "%run codigo/holamundo2.py"
   ]
  },
  {
   "cell_type": "markdown",
   "metadata": {},
   "source": [
    "## Codificación de caracteres en Python 2.\n",
    "\n",
    "Python 3 utiliza la codificación UTF-8 por defecto.\n",
    "\n",
    "Python 2 utiliza por defecto una codificación ASCII, por lo que desplegar caracteres especiales como la \"ñ\" y los acentos generan un mensaje de error. \n",
    "\n",
    "Para indicarle al intérprete de Python 2 que utilice la codificación UTF-8 se debe incluir la siguiente línea al principio el script:\n",
    "``` python\n",
    "# -*- coding: utf-8 -*-\n",
    "```\n",
    "Es muy recomendable definir siempre el tipo de codificación UTF-8 en los scripts hechos para Python 2.\n",
    "\n",
    "El script *hola_ninos.py* es un ejemplo de código en Python 2.\n",
    "\n",
    "``` python\n",
    "#! /usr/bin/python\n",
    "# -*- coding: utf-8 -*- \n",
    "print \"Hola niños\"\n",
    "input()\n",
    "```\n",
    "\n",
    "Cabe hacer notar que el código de este script no es compatible con Python 3, ya que *print* requiere del uso de paréntesis en dicha versión. "
   ]
  },
  {
   "cell_type": "markdown",
   "metadata": {},
   "source": [
    "## Entornos de Desarrollo Integrado.\n",
    "\n",
    "Un Entorno de Desarrollo Integrado (IDE) es un conjunto de herramientas e interfaces que facilitan la programación y que están integrados por algunos de los siguientes elementos:\n",
    "* Editor.\n",
    "* Depurador.\n",
    "* Compilador (no es necesario para Python).\n",
    "* Interfaz de ejecución.\n",
    "* Gestor de componentes.\n",
    "* Control de versiones."
   ]
  },
  {
   "cell_type": "markdown",
   "metadata": {},
   "source": [
    "### El Zen de Python.\n",
    "\n",
    "El *Zen de Python* es una lista de aforismos que indican de forma general lo que se espera del código hecho en Python, y ha sido reconocido de tal forma por la comunidad que puede ser consultado desde el intérprete de Python de la siguiente manera."
   ]
  },
  {
   "cell_type": "code",
   "execution_count": 1,
   "metadata": {},
   "outputs": [
    {
     "name": "stdout",
     "output_type": "stream",
     "text": [
      "The Zen of Python, by Tim Peters\n",
      "\n",
      "Beautiful is better than ugly.\n",
      "Explicit is better than implicit.\n",
      "Simple is better than complex.\n",
      "Complex is better than complicated.\n",
      "Flat is better than nested.\n",
      "Sparse is better than dense.\n",
      "Readability counts.\n",
      "Special cases aren't special enough to break the rules.\n",
      "Although practicality beats purity.\n",
      "Errors should never pass silently.\n",
      "Unless explicitly silenced.\n",
      "In the face of ambiguity, refuse the temptation to guess.\n",
      "There should be one-- and preferably only one --obvious way to do it.\n",
      "Although that way may not be obvious at first unless you're Dutch.\n",
      "Now is better than never.\n",
      "Although never is often better than *right* now.\n",
      "If the implementation is hard to explain, it's a bad idea.\n",
      "If the implementation is easy to explain, it may be a good idea.\n",
      "Namespaces are one honking great idea -- let's do more of those!\n"
     ]
    }
   ],
   "source": [
    "import this"
   ]
  },
  {
   "cell_type": "markdown",
   "metadata": {},
   "source": [
    "Aquí la traducción de los aforismos.\n",
    "\n",
    "* Bello es mejor que feo.\n",
    "* Explícito es mejor que implícito.\n",
    "* Simple es mejor que complejo.\n",
    "* Complejo es mejor que complicado.\n",
    "* Plano es mejor que anidado.\n",
    "* Escaso es mejor que denso.\n",
    "* La legibilidad cuenta.\n",
    "* Los casos especiales no son tan especiales como para romper las reglas.\n",
    "* Aunque lo práctico le gana a la pureza.\n",
    "* Los errores no deben pasar en silencio.\n",
    "* A menos que sean silenciados explícitamente.\n",
    "* En caso de ambigüedad, resiste la tentación a adivinar.\n",
    "* Debería haber una --y preferiblemente sólo una-- manera obvia de hacer las cosas.\n",
    "* Aunque esa manera no parezca ser tan obvia a menos que seas Holandés.\n",
    "* Ahora es mejor que nunca.\n",
    "* Aunque nunca es normalmente mejor que ahora \"mismo\".\n",
    "* Si la implementación es difícil de explicar, es una mala idea.\n",
    "* Si la implementación es fácil de explicar, podría ser una buena idea.\n",
    "* Los Espacios de Nombres son una magnífica idea -- ¡Hagamos más de esos!"
   ]
  },
  {
   "cell_type": "markdown",
   "metadata": {},
   "source": [
    "### Las PEP  de Python.\n",
    "\n",
    "Es muy problable que algún pythonista comparta alguna inquietud o tenga alguna propuesta relacionada con algún aspecto de Python y es por eso que existe un espacio que compendia una inmensa cantidad de propuestas e ideas relacionadas con el lenguaje. \n",
    "\n",
    "[PEP](http://www.python.org/dev/peps/) es el acrónimo de \"Propuesta de mejora de Python\" y es el sitio en el que se puede proponer, consultar e incluso debatir sobre todas estas inquietudes de forma abierta y directa con los desarrolladores del lenguaje.\n",
    "\n",
    "La PEP-8 es particularmente interesante, ya que se refiere a las reglas de estilo que se sugieren para programar en Python."
   ]
  },
  {
   "cell_type": "markdown",
   "metadata": {},
   "source": [
    "### El índice de paquetes de Python (PyPI).\n",
    "\n",
    "Python es un lenguaje que viene con una gran biblioteca estándar, sin embargo existe una biblioteca en línea aún más grande y que sirve como repositorio de diversos proyectos publicados por sus desarrolladores para uso de la comunidad.\n",
    "El sitio [https://pypi.org](https://pypi.org) no sólo enlista a dichos proyectos, sino que además cuenta con *pip*, una herramienta que puede instalar de forma local los paquetes correspondientes a uno o diversos proyectos contenidos en PyPI."
   ]
  },
  {
   "cell_type": "markdown",
   "metadata": {},
   "source": [
    "<p style=\"text-align: center\"><a rel=\"license\" href=\"http://creativecommons.org/licenses/by/4.0/\"><img alt=\"Licencia Creative Commons\" style=\"border-width:0\" src=\"https://i.creativecommons.org/l/by/4.0/80x15.png\" /></a><br />Esta obra está bajo una <a rel=\"license\" href=\"http://creativecommons.org/licenses/by/4.0/\">Licencia Creative Commons Atribución 4.0 Internacional</a>.</p>\n",
    "<p style=\"text-align: center\">&copy; José Luis Chiquete Valdivieso. 2019.</p>"
   ]
  }
 ],
 "metadata": {
  "kernelspec": {
   "display_name": "Python 3",
   "language": "python",
   "name": "python3"
  },
  "language_info": {
   "codemirror_mode": {
    "name": "ipython",
    "version": 3
   },
   "file_extension": ".py",
   "mimetype": "text/x-python",
   "name": "python",
   "nbconvert_exporter": "python",
   "pygments_lexer": "ipython3",
   "version": "3.7.2"
  }
 },
 "nbformat": 4,
 "nbformat_minor": 1
}
